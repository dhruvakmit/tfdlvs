{
  "nbformat": 4,
  "nbformat_minor": 0,
  "metadata": {
    "colab": {
      "provenance": [],
      "authorship_tag": "ABX9TyN+f/mkYN1GlcJoOrSzB4Ew",
      "include_colab_link": true
    },
    "kernelspec": {
      "name": "python3",
      "display_name": "Python 3"
    },
    "language_info": {
      "name": "python"
    }
  },
  "cells": [
    {
      "cell_type": "markdown",
      "metadata": {
        "id": "view-in-github",
        "colab_type": "text"
      },
      "source": [
        "<a href=\"https://colab.research.google.com/github/dhruvakmit/tfdlvs/blob/main/20BD1A6609.ipynb\" target=\"_parent\"><img src=\"https://colab.research.google.com/assets/colab-badge.svg\" alt=\"Open In Colab\"/></a>"
      ]
    },
    {
      "cell_type": "code",
      "execution_count": null,
      "metadata": {
        "id": "uSdr4gKoXQzz"
      },
      "outputs": [],
      "source": []
    },
    {
      "cell_type": "code",
      "source": [
        "import numpy as np\n",
        "import pandas as pd\n",
        "import tensorflow as tf\n",
        "import os\n"
      ],
      "metadata": {
        "id": "sAqDXaJPXdL3"
      },
      "execution_count": null,
      "outputs": []
    },
    {
      "cell_type": "code",
      "source": [
        "data=pd.read_csv('/content/housing.csv')"
      ],
      "metadata": {
        "id": "XyFWuoNSX9x4"
      },
      "execution_count": null,
      "outputs": []
    },
    {
      "cell_type": "code",
      "source": [
        "data\n"
      ],
      "metadata": {
        "colab": {
          "base_uri": "https://localhost:8080/",
          "height": 488
        },
        "id": "6kofBjZzYAff",
        "outputId": "51aeb101-490a-4a81-fa32-27f76a88848a"
      },
      "execution_count": null,
      "outputs": [
        {
          "output_type": "execute_result",
          "data": {
            "text/plain": [
              "       longitude  latitude  housing_median_age  total_rooms  total_bedrooms  \\\n",
              "0        -122.23     37.88                41.0        880.0           129.0   \n",
              "1        -122.22     37.86                21.0       7099.0          1106.0   \n",
              "2        -122.24     37.85                52.0       1467.0           190.0   \n",
              "3        -122.25     37.85                52.0       1274.0           235.0   \n",
              "4        -122.25     37.85                52.0       1627.0           280.0   \n",
              "...          ...       ...                 ...          ...             ...   \n",
              "20635    -121.09     39.48                25.0       1665.0           374.0   \n",
              "20636    -121.21     39.49                18.0        697.0           150.0   \n",
              "20637    -121.22     39.43                17.0       2254.0           485.0   \n",
              "20638    -121.32     39.43                18.0       1860.0           409.0   \n",
              "20639    -121.24     39.37                16.0       2785.0           616.0   \n",
              "\n",
              "       population  households  median_income  median_house_value  \\\n",
              "0           322.0       126.0         8.3252            452600.0   \n",
              "1          2401.0      1138.0         8.3014            358500.0   \n",
              "2           496.0       177.0         7.2574            352100.0   \n",
              "3           558.0       219.0         5.6431            341300.0   \n",
              "4           565.0       259.0         3.8462            342200.0   \n",
              "...           ...         ...            ...                 ...   \n",
              "20635       845.0       330.0         1.5603             78100.0   \n",
              "20636       356.0       114.0         2.5568             77100.0   \n",
              "20637      1007.0       433.0         1.7000             92300.0   \n",
              "20638       741.0       349.0         1.8672             84700.0   \n",
              "20639      1387.0       530.0         2.3886             89400.0   \n",
              "\n",
              "      ocean_proximity  \n",
              "0            NEAR BAY  \n",
              "1            NEAR BAY  \n",
              "2            NEAR BAY  \n",
              "3            NEAR BAY  \n",
              "4            NEAR BAY  \n",
              "...               ...  \n",
              "20635          INLAND  \n",
              "20636          INLAND  \n",
              "20637          INLAND  \n",
              "20638          INLAND  \n",
              "20639          INLAND  \n",
              "\n",
              "[20640 rows x 10 columns]"
            ],
            "text/html": [
              "\n",
              "  <div id=\"df-465c1ad9-6d50-49e3-b008-6b7beea698f0\">\n",
              "    <div class=\"colab-df-container\">\n",
              "      <div>\n",
              "<style scoped>\n",
              "    .dataframe tbody tr th:only-of-type {\n",
              "        vertical-align: middle;\n",
              "    }\n",
              "\n",
              "    .dataframe tbody tr th {\n",
              "        vertical-align: top;\n",
              "    }\n",
              "\n",
              "    .dataframe thead th {\n",
              "        text-align: right;\n",
              "    }\n",
              "</style>\n",
              "<table border=\"1\" class=\"dataframe\">\n",
              "  <thead>\n",
              "    <tr style=\"text-align: right;\">\n",
              "      <th></th>\n",
              "      <th>longitude</th>\n",
              "      <th>latitude</th>\n",
              "      <th>housing_median_age</th>\n",
              "      <th>total_rooms</th>\n",
              "      <th>total_bedrooms</th>\n",
              "      <th>population</th>\n",
              "      <th>households</th>\n",
              "      <th>median_income</th>\n",
              "      <th>median_house_value</th>\n",
              "      <th>ocean_proximity</th>\n",
              "    </tr>\n",
              "  </thead>\n",
              "  <tbody>\n",
              "    <tr>\n",
              "      <th>0</th>\n",
              "      <td>-122.23</td>\n",
              "      <td>37.88</td>\n",
              "      <td>41.0</td>\n",
              "      <td>880.0</td>\n",
              "      <td>129.0</td>\n",
              "      <td>322.0</td>\n",
              "      <td>126.0</td>\n",
              "      <td>8.3252</td>\n",
              "      <td>452600.0</td>\n",
              "      <td>NEAR BAY</td>\n",
              "    </tr>\n",
              "    <tr>\n",
              "      <th>1</th>\n",
              "      <td>-122.22</td>\n",
              "      <td>37.86</td>\n",
              "      <td>21.0</td>\n",
              "      <td>7099.0</td>\n",
              "      <td>1106.0</td>\n",
              "      <td>2401.0</td>\n",
              "      <td>1138.0</td>\n",
              "      <td>8.3014</td>\n",
              "      <td>358500.0</td>\n",
              "      <td>NEAR BAY</td>\n",
              "    </tr>\n",
              "    <tr>\n",
              "      <th>2</th>\n",
              "      <td>-122.24</td>\n",
              "      <td>37.85</td>\n",
              "      <td>52.0</td>\n",
              "      <td>1467.0</td>\n",
              "      <td>190.0</td>\n",
              "      <td>496.0</td>\n",
              "      <td>177.0</td>\n",
              "      <td>7.2574</td>\n",
              "      <td>352100.0</td>\n",
              "      <td>NEAR BAY</td>\n",
              "    </tr>\n",
              "    <tr>\n",
              "      <th>3</th>\n",
              "      <td>-122.25</td>\n",
              "      <td>37.85</td>\n",
              "      <td>52.0</td>\n",
              "      <td>1274.0</td>\n",
              "      <td>235.0</td>\n",
              "      <td>558.0</td>\n",
              "      <td>219.0</td>\n",
              "      <td>5.6431</td>\n",
              "      <td>341300.0</td>\n",
              "      <td>NEAR BAY</td>\n",
              "    </tr>\n",
              "    <tr>\n",
              "      <th>4</th>\n",
              "      <td>-122.25</td>\n",
              "      <td>37.85</td>\n",
              "      <td>52.0</td>\n",
              "      <td>1627.0</td>\n",
              "      <td>280.0</td>\n",
              "      <td>565.0</td>\n",
              "      <td>259.0</td>\n",
              "      <td>3.8462</td>\n",
              "      <td>342200.0</td>\n",
              "      <td>NEAR BAY</td>\n",
              "    </tr>\n",
              "    <tr>\n",
              "      <th>...</th>\n",
              "      <td>...</td>\n",
              "      <td>...</td>\n",
              "      <td>...</td>\n",
              "      <td>...</td>\n",
              "      <td>...</td>\n",
              "      <td>...</td>\n",
              "      <td>...</td>\n",
              "      <td>...</td>\n",
              "      <td>...</td>\n",
              "      <td>...</td>\n",
              "    </tr>\n",
              "    <tr>\n",
              "      <th>20635</th>\n",
              "      <td>-121.09</td>\n",
              "      <td>39.48</td>\n",
              "      <td>25.0</td>\n",
              "      <td>1665.0</td>\n",
              "      <td>374.0</td>\n",
              "      <td>845.0</td>\n",
              "      <td>330.0</td>\n",
              "      <td>1.5603</td>\n",
              "      <td>78100.0</td>\n",
              "      <td>INLAND</td>\n",
              "    </tr>\n",
              "    <tr>\n",
              "      <th>20636</th>\n",
              "      <td>-121.21</td>\n",
              "      <td>39.49</td>\n",
              "      <td>18.0</td>\n",
              "      <td>697.0</td>\n",
              "      <td>150.0</td>\n",
              "      <td>356.0</td>\n",
              "      <td>114.0</td>\n",
              "      <td>2.5568</td>\n",
              "      <td>77100.0</td>\n",
              "      <td>INLAND</td>\n",
              "    </tr>\n",
              "    <tr>\n",
              "      <th>20637</th>\n",
              "      <td>-121.22</td>\n",
              "      <td>39.43</td>\n",
              "      <td>17.0</td>\n",
              "      <td>2254.0</td>\n",
              "      <td>485.0</td>\n",
              "      <td>1007.0</td>\n",
              "      <td>433.0</td>\n",
              "      <td>1.7000</td>\n",
              "      <td>92300.0</td>\n",
              "      <td>INLAND</td>\n",
              "    </tr>\n",
              "    <tr>\n",
              "      <th>20638</th>\n",
              "      <td>-121.32</td>\n",
              "      <td>39.43</td>\n",
              "      <td>18.0</td>\n",
              "      <td>1860.0</td>\n",
              "      <td>409.0</td>\n",
              "      <td>741.0</td>\n",
              "      <td>349.0</td>\n",
              "      <td>1.8672</td>\n",
              "      <td>84700.0</td>\n",
              "      <td>INLAND</td>\n",
              "    </tr>\n",
              "    <tr>\n",
              "      <th>20639</th>\n",
              "      <td>-121.24</td>\n",
              "      <td>39.37</td>\n",
              "      <td>16.0</td>\n",
              "      <td>2785.0</td>\n",
              "      <td>616.0</td>\n",
              "      <td>1387.0</td>\n",
              "      <td>530.0</td>\n",
              "      <td>2.3886</td>\n",
              "      <td>89400.0</td>\n",
              "      <td>INLAND</td>\n",
              "    </tr>\n",
              "  </tbody>\n",
              "</table>\n",
              "<p>20640 rows × 10 columns</p>\n",
              "</div>\n",
              "      <button class=\"colab-df-convert\" onclick=\"convertToInteractive('df-465c1ad9-6d50-49e3-b008-6b7beea698f0')\"\n",
              "              title=\"Convert this dataframe to an interactive table.\"\n",
              "              style=\"display:none;\">\n",
              "        \n",
              "  <svg xmlns=\"http://www.w3.org/2000/svg\" height=\"24px\"viewBox=\"0 0 24 24\"\n",
              "       width=\"24px\">\n",
              "    <path d=\"M0 0h24v24H0V0z\" fill=\"none\"/>\n",
              "    <path d=\"M18.56 5.44l.94 2.06.94-2.06 2.06-.94-2.06-.94-.94-2.06-.94 2.06-2.06.94zm-11 1L8.5 8.5l.94-2.06 2.06-.94-2.06-.94L8.5 2.5l-.94 2.06-2.06.94zm10 10l.94 2.06.94-2.06 2.06-.94-2.06-.94-.94-2.06-.94 2.06-2.06.94z\"/><path d=\"M17.41 7.96l-1.37-1.37c-.4-.4-.92-.59-1.43-.59-.52 0-1.04.2-1.43.59L10.3 9.45l-7.72 7.72c-.78.78-.78 2.05 0 2.83L4 21.41c.39.39.9.59 1.41.59.51 0 1.02-.2 1.41-.59l7.78-7.78 2.81-2.81c.8-.78.8-2.07 0-2.86zM5.41 20L4 18.59l7.72-7.72 1.47 1.35L5.41 20z\"/>\n",
              "  </svg>\n",
              "      </button>\n",
              "      \n",
              "  <style>\n",
              "    .colab-df-container {\n",
              "      display:flex;\n",
              "      flex-wrap:wrap;\n",
              "      gap: 12px;\n",
              "    }\n",
              "\n",
              "    .colab-df-convert {\n",
              "      background-color: #E8F0FE;\n",
              "      border: none;\n",
              "      border-radius: 50%;\n",
              "      cursor: pointer;\n",
              "      display: none;\n",
              "      fill: #1967D2;\n",
              "      height: 32px;\n",
              "      padding: 0 0 0 0;\n",
              "      width: 32px;\n",
              "    }\n",
              "\n",
              "    .colab-df-convert:hover {\n",
              "      background-color: #E2EBFA;\n",
              "      box-shadow: 0px 1px 2px rgba(60, 64, 67, 0.3), 0px 1px 3px 1px rgba(60, 64, 67, 0.15);\n",
              "      fill: #174EA6;\n",
              "    }\n",
              "\n",
              "    [theme=dark] .colab-df-convert {\n",
              "      background-color: #3B4455;\n",
              "      fill: #D2E3FC;\n",
              "    }\n",
              "\n",
              "    [theme=dark] .colab-df-convert:hover {\n",
              "      background-color: #434B5C;\n",
              "      box-shadow: 0px 1px 3px 1px rgba(0, 0, 0, 0.15);\n",
              "      filter: drop-shadow(0px 1px 2px rgba(0, 0, 0, 0.3));\n",
              "      fill: #FFFFFF;\n",
              "    }\n",
              "  </style>\n",
              "\n",
              "      <script>\n",
              "        const buttonEl =\n",
              "          document.querySelector('#df-465c1ad9-6d50-49e3-b008-6b7beea698f0 button.colab-df-convert');\n",
              "        buttonEl.style.display =\n",
              "          google.colab.kernel.accessAllowed ? 'block' : 'none';\n",
              "\n",
              "        async function convertToInteractive(key) {\n",
              "          const element = document.querySelector('#df-465c1ad9-6d50-49e3-b008-6b7beea698f0');\n",
              "          const dataTable =\n",
              "            await google.colab.kernel.invokeFunction('convertToInteractive',\n",
              "                                                     [key], {});\n",
              "          if (!dataTable) return;\n",
              "\n",
              "          const docLinkHtml = 'Like what you see? Visit the ' +\n",
              "            '<a target=\"_blank\" href=https://colab.research.google.com/notebooks/data_table.ipynb>data table notebook</a>'\n",
              "            + ' to learn more about interactive tables.';\n",
              "          element.innerHTML = '';\n",
              "          dataTable['output_type'] = 'display_data';\n",
              "          await google.colab.output.renderOutput(dataTable, element);\n",
              "          const docLink = document.createElement('div');\n",
              "          docLink.innerHTML = docLinkHtml;\n",
              "          element.appendChild(docLink);\n",
              "        }\n",
              "      </script>\n",
              "    </div>\n",
              "  </div>\n",
              "  "
            ]
          },
          "metadata": {},
          "execution_count": 89
        }
      ]
    },
    {
      "cell_type": "code",
      "source": [
        "data.shape"
      ],
      "metadata": {
        "colab": {
          "base_uri": "https://localhost:8080/"
        },
        "id": "IOAE3LBoYDEO",
        "outputId": "bf0e4c63-efd7-4990-b8b9-4b740999ebb2"
      },
      "execution_count": null,
      "outputs": [
        {
          "output_type": "execute_result",
          "data": {
            "text/plain": [
              "(20640, 10)"
            ]
          },
          "metadata": {},
          "execution_count": 73
        }
      ]
    },
    {
      "cell_type": "code",
      "source": [
        "data.columns"
      ],
      "metadata": {
        "colab": {
          "base_uri": "https://localhost:8080/"
        },
        "id": "QXAS74-VYHfG",
        "outputId": "356e8b8a-2ea2-4e9c-eba9-685e6d02c50a"
      },
      "execution_count": null,
      "outputs": [
        {
          "output_type": "execute_result",
          "data": {
            "text/plain": [
              "Index(['longitude', 'latitude', 'housing_median_age', 'total_rooms',\n",
              "       'total_bedrooms', 'population', 'households', 'median_income',\n",
              "       'median_house_value', 'ocean_proximity'],\n",
              "      dtype='object')"
            ]
          },
          "metadata": {},
          "execution_count": 74
        }
      ]
    },
    {
      "cell_type": "markdown",
      "source": [
        "Here we are going to begin preprocessing steps,first we are going to find null values and check if they are going to affect our model. If they do affect it, we are going to drop the columns or fill them with mean values."
      ],
      "metadata": {
        "id": "Kb9Ur3SUYMyk"
      }
    },
    {
      "cell_type": "code",
      "source": [
        "data.isnull().sum()"
      ],
      "metadata": {
        "colab": {
          "base_uri": "https://localhost:8080/"
        },
        "id": "mh1oFHh_YJ6I",
        "outputId": "7ed6a6f0-47af-4f6f-a6e2-6d0bfa95b688"
      },
      "execution_count": null,
      "outputs": [
        {
          "output_type": "execute_result",
          "data": {
            "text/plain": [
              "longitude               0\n",
              "latitude                0\n",
              "housing_median_age      0\n",
              "total_rooms             0\n",
              "total_bedrooms        207\n",
              "population              0\n",
              "households              0\n",
              "median_income           0\n",
              "median_house_value      0\n",
              "ocean_proximity         0\n",
              "dtype: int64"
            ]
          },
          "metadata": {},
          "execution_count": 75
        }
      ]
    },
    {
      "cell_type": "markdown",
      "source": [],
      "metadata": {
        "id": "ySnKxDK-YzQt"
      }
    },
    {
      "cell_type": "markdown",
      "source": [
        "There are 207 null values in the column total_bedrooms."
      ],
      "metadata": {
        "id": "BJV-tadDYfm3"
      }
    },
    {
      "cell_type": "markdown",
      "source": [
        "Before dropping null values, I want to check if there is any relation between total_bedrooms and median_house_value."
      ],
      "metadata": {
        "id": "XMOxqmrAYqGm"
      }
    },
    {
      "cell_type": "code",
      "source": [
        "data.corr()"
      ],
      "metadata": {
        "colab": {
          "base_uri": "https://localhost:8080/",
          "height": 396
        },
        "id": "qp0rANQuYetO",
        "outputId": "1eb46c9e-8f5a-4c64-85b6-cee082d80796"
      },
      "execution_count": null,
      "outputs": [
        {
          "output_type": "execute_result",
          "data": {
            "text/plain": [
              "                    longitude  latitude  housing_median_age  total_rooms  \\\n",
              "longitude            1.000000 -0.924664           -0.108197     0.044568   \n",
              "latitude            -0.924664  1.000000            0.011173    -0.036100   \n",
              "housing_median_age  -0.108197  0.011173            1.000000    -0.361262   \n",
              "total_rooms          0.044568 -0.036100           -0.361262     1.000000   \n",
              "total_bedrooms       0.069608 -0.066983           -0.320451     0.930380   \n",
              "population           0.099773 -0.108785           -0.296244     0.857126   \n",
              "households           0.055310 -0.071035           -0.302916     0.918484   \n",
              "median_income       -0.015176 -0.079809           -0.119034     0.198050   \n",
              "median_house_value  -0.045967 -0.144160            0.105623     0.134153   \n",
              "\n",
              "                    total_bedrooms  population  households  median_income  \\\n",
              "longitude                 0.069608    0.099773    0.055310      -0.015176   \n",
              "latitude                 -0.066983   -0.108785   -0.071035      -0.079809   \n",
              "housing_median_age       -0.320451   -0.296244   -0.302916      -0.119034   \n",
              "total_rooms               0.930380    0.857126    0.918484       0.198050   \n",
              "total_bedrooms            1.000000    0.877747    0.979728      -0.007723   \n",
              "population                0.877747    1.000000    0.907222       0.004834   \n",
              "households                0.979728    0.907222    1.000000       0.013033   \n",
              "median_income            -0.007723    0.004834    0.013033       1.000000   \n",
              "median_house_value        0.049686   -0.024650    0.065843       0.688075   \n",
              "\n",
              "                    median_house_value  \n",
              "longitude                    -0.045967  \n",
              "latitude                     -0.144160  \n",
              "housing_median_age            0.105623  \n",
              "total_rooms                   0.134153  \n",
              "total_bedrooms                0.049686  \n",
              "population                   -0.024650  \n",
              "households                    0.065843  \n",
              "median_income                 0.688075  \n",
              "median_house_value            1.000000  "
            ],
            "text/html": [
              "\n",
              "  <div id=\"df-8e5c7513-693b-4fa0-a5fa-4c7202547e0b\">\n",
              "    <div class=\"colab-df-container\">\n",
              "      <div>\n",
              "<style scoped>\n",
              "    .dataframe tbody tr th:only-of-type {\n",
              "        vertical-align: middle;\n",
              "    }\n",
              "\n",
              "    .dataframe tbody tr th {\n",
              "        vertical-align: top;\n",
              "    }\n",
              "\n",
              "    .dataframe thead th {\n",
              "        text-align: right;\n",
              "    }\n",
              "</style>\n",
              "<table border=\"1\" class=\"dataframe\">\n",
              "  <thead>\n",
              "    <tr style=\"text-align: right;\">\n",
              "      <th></th>\n",
              "      <th>longitude</th>\n",
              "      <th>latitude</th>\n",
              "      <th>housing_median_age</th>\n",
              "      <th>total_rooms</th>\n",
              "      <th>total_bedrooms</th>\n",
              "      <th>population</th>\n",
              "      <th>households</th>\n",
              "      <th>median_income</th>\n",
              "      <th>median_house_value</th>\n",
              "    </tr>\n",
              "  </thead>\n",
              "  <tbody>\n",
              "    <tr>\n",
              "      <th>longitude</th>\n",
              "      <td>1.000000</td>\n",
              "      <td>-0.924664</td>\n",
              "      <td>-0.108197</td>\n",
              "      <td>0.044568</td>\n",
              "      <td>0.069608</td>\n",
              "      <td>0.099773</td>\n",
              "      <td>0.055310</td>\n",
              "      <td>-0.015176</td>\n",
              "      <td>-0.045967</td>\n",
              "    </tr>\n",
              "    <tr>\n",
              "      <th>latitude</th>\n",
              "      <td>-0.924664</td>\n",
              "      <td>1.000000</td>\n",
              "      <td>0.011173</td>\n",
              "      <td>-0.036100</td>\n",
              "      <td>-0.066983</td>\n",
              "      <td>-0.108785</td>\n",
              "      <td>-0.071035</td>\n",
              "      <td>-0.079809</td>\n",
              "      <td>-0.144160</td>\n",
              "    </tr>\n",
              "    <tr>\n",
              "      <th>housing_median_age</th>\n",
              "      <td>-0.108197</td>\n",
              "      <td>0.011173</td>\n",
              "      <td>1.000000</td>\n",
              "      <td>-0.361262</td>\n",
              "      <td>-0.320451</td>\n",
              "      <td>-0.296244</td>\n",
              "      <td>-0.302916</td>\n",
              "      <td>-0.119034</td>\n",
              "      <td>0.105623</td>\n",
              "    </tr>\n",
              "    <tr>\n",
              "      <th>total_rooms</th>\n",
              "      <td>0.044568</td>\n",
              "      <td>-0.036100</td>\n",
              "      <td>-0.361262</td>\n",
              "      <td>1.000000</td>\n",
              "      <td>0.930380</td>\n",
              "      <td>0.857126</td>\n",
              "      <td>0.918484</td>\n",
              "      <td>0.198050</td>\n",
              "      <td>0.134153</td>\n",
              "    </tr>\n",
              "    <tr>\n",
              "      <th>total_bedrooms</th>\n",
              "      <td>0.069608</td>\n",
              "      <td>-0.066983</td>\n",
              "      <td>-0.320451</td>\n",
              "      <td>0.930380</td>\n",
              "      <td>1.000000</td>\n",
              "      <td>0.877747</td>\n",
              "      <td>0.979728</td>\n",
              "      <td>-0.007723</td>\n",
              "      <td>0.049686</td>\n",
              "    </tr>\n",
              "    <tr>\n",
              "      <th>population</th>\n",
              "      <td>0.099773</td>\n",
              "      <td>-0.108785</td>\n",
              "      <td>-0.296244</td>\n",
              "      <td>0.857126</td>\n",
              "      <td>0.877747</td>\n",
              "      <td>1.000000</td>\n",
              "      <td>0.907222</td>\n",
              "      <td>0.004834</td>\n",
              "      <td>-0.024650</td>\n",
              "    </tr>\n",
              "    <tr>\n",
              "      <th>households</th>\n",
              "      <td>0.055310</td>\n",
              "      <td>-0.071035</td>\n",
              "      <td>-0.302916</td>\n",
              "      <td>0.918484</td>\n",
              "      <td>0.979728</td>\n",
              "      <td>0.907222</td>\n",
              "      <td>1.000000</td>\n",
              "      <td>0.013033</td>\n",
              "      <td>0.065843</td>\n",
              "    </tr>\n",
              "    <tr>\n",
              "      <th>median_income</th>\n",
              "      <td>-0.015176</td>\n",
              "      <td>-0.079809</td>\n",
              "      <td>-0.119034</td>\n",
              "      <td>0.198050</td>\n",
              "      <td>-0.007723</td>\n",
              "      <td>0.004834</td>\n",
              "      <td>0.013033</td>\n",
              "      <td>1.000000</td>\n",
              "      <td>0.688075</td>\n",
              "    </tr>\n",
              "    <tr>\n",
              "      <th>median_house_value</th>\n",
              "      <td>-0.045967</td>\n",
              "      <td>-0.144160</td>\n",
              "      <td>0.105623</td>\n",
              "      <td>0.134153</td>\n",
              "      <td>0.049686</td>\n",
              "      <td>-0.024650</td>\n",
              "      <td>0.065843</td>\n",
              "      <td>0.688075</td>\n",
              "      <td>1.000000</td>\n",
              "    </tr>\n",
              "  </tbody>\n",
              "</table>\n",
              "</div>\n",
              "      <button class=\"colab-df-convert\" onclick=\"convertToInteractive('df-8e5c7513-693b-4fa0-a5fa-4c7202547e0b')\"\n",
              "              title=\"Convert this dataframe to an interactive table.\"\n",
              "              style=\"display:none;\">\n",
              "        \n",
              "  <svg xmlns=\"http://www.w3.org/2000/svg\" height=\"24px\"viewBox=\"0 0 24 24\"\n",
              "       width=\"24px\">\n",
              "    <path d=\"M0 0h24v24H0V0z\" fill=\"none\"/>\n",
              "    <path d=\"M18.56 5.44l.94 2.06.94-2.06 2.06-.94-2.06-.94-.94-2.06-.94 2.06-2.06.94zm-11 1L8.5 8.5l.94-2.06 2.06-.94-2.06-.94L8.5 2.5l-.94 2.06-2.06.94zm10 10l.94 2.06.94-2.06 2.06-.94-2.06-.94-.94-2.06-.94 2.06-2.06.94z\"/><path d=\"M17.41 7.96l-1.37-1.37c-.4-.4-.92-.59-1.43-.59-.52 0-1.04.2-1.43.59L10.3 9.45l-7.72 7.72c-.78.78-.78 2.05 0 2.83L4 21.41c.39.39.9.59 1.41.59.51 0 1.02-.2 1.41-.59l7.78-7.78 2.81-2.81c.8-.78.8-2.07 0-2.86zM5.41 20L4 18.59l7.72-7.72 1.47 1.35L5.41 20z\"/>\n",
              "  </svg>\n",
              "      </button>\n",
              "      \n",
              "  <style>\n",
              "    .colab-df-container {\n",
              "      display:flex;\n",
              "      flex-wrap:wrap;\n",
              "      gap: 12px;\n",
              "    }\n",
              "\n",
              "    .colab-df-convert {\n",
              "      background-color: #E8F0FE;\n",
              "      border: none;\n",
              "      border-radius: 50%;\n",
              "      cursor: pointer;\n",
              "      display: none;\n",
              "      fill: #1967D2;\n",
              "      height: 32px;\n",
              "      padding: 0 0 0 0;\n",
              "      width: 32px;\n",
              "    }\n",
              "\n",
              "    .colab-df-convert:hover {\n",
              "      background-color: #E2EBFA;\n",
              "      box-shadow: 0px 1px 2px rgba(60, 64, 67, 0.3), 0px 1px 3px 1px rgba(60, 64, 67, 0.15);\n",
              "      fill: #174EA6;\n",
              "    }\n",
              "\n",
              "    [theme=dark] .colab-df-convert {\n",
              "      background-color: #3B4455;\n",
              "      fill: #D2E3FC;\n",
              "    }\n",
              "\n",
              "    [theme=dark] .colab-df-convert:hover {\n",
              "      background-color: #434B5C;\n",
              "      box-shadow: 0px 1px 3px 1px rgba(0, 0, 0, 0.15);\n",
              "      filter: drop-shadow(0px 1px 2px rgba(0, 0, 0, 0.3));\n",
              "      fill: #FFFFFF;\n",
              "    }\n",
              "  </style>\n",
              "\n",
              "      <script>\n",
              "        const buttonEl =\n",
              "          document.querySelector('#df-8e5c7513-693b-4fa0-a5fa-4c7202547e0b button.colab-df-convert');\n",
              "        buttonEl.style.display =\n",
              "          google.colab.kernel.accessAllowed ? 'block' : 'none';\n",
              "\n",
              "        async function convertToInteractive(key) {\n",
              "          const element = document.querySelector('#df-8e5c7513-693b-4fa0-a5fa-4c7202547e0b');\n",
              "          const dataTable =\n",
              "            await google.colab.kernel.invokeFunction('convertToInteractive',\n",
              "                                                     [key], {});\n",
              "          if (!dataTable) return;\n",
              "\n",
              "          const docLinkHtml = 'Like what you see? Visit the ' +\n",
              "            '<a target=\"_blank\" href=https://colab.research.google.com/notebooks/data_table.ipynb>data table notebook</a>'\n",
              "            + ' to learn more about interactive tables.';\n",
              "          element.innerHTML = '';\n",
              "          dataTable['output_type'] = 'display_data';\n",
              "          await google.colab.output.renderOutput(dataTable, element);\n",
              "          const docLink = document.createElement('div');\n",
              "          docLink.innerHTML = docLinkHtml;\n",
              "          element.appendChild(docLink);\n",
              "        }\n",
              "      </script>\n",
              "    </div>\n",
              "  </div>\n",
              "  "
            ]
          },
          "metadata": {},
          "execution_count": 76
        }
      ]
    },
    {
      "cell_type": "markdown",
      "source": [
        "As we can see the correlation between median_house_value and total_bedrooms is low. So I will not be considering them for the model."
      ],
      "metadata": {
        "id": "h0_nwcZ4Y4wG"
      }
    },
    {
      "cell_type": "markdown",
      "source": [
        "But there is a high correlation factor between median_house_value and the following columns: Housing_median_age, median_income and total_rooms.\n",
        "Hence I will be considering those columns."
      ],
      "metadata": {
        "id": "bf2YGcPNZGlZ"
      }
    },
    {
      "cell_type": "code",
      "source": [
        "data.corr()[['median_income','median_house_value','housing_median_age','total_rooms']]\n"
      ],
      "metadata": {
        "colab": {
          "base_uri": "https://localhost:8080/",
          "height": 332
        },
        "id": "ygG84e8gZlug",
        "outputId": "c8eedcf4-4fc7-462e-8ab2-5b8a240f9c5d"
      },
      "execution_count": null,
      "outputs": [
        {
          "output_type": "execute_result",
          "data": {
            "text/plain": [
              "                    median_income  median_house_value  housing_median_age  \\\n",
              "longitude               -0.015176           -0.045967           -0.108197   \n",
              "latitude                -0.079809           -0.144160            0.011173   \n",
              "housing_median_age      -0.119034            0.105623            1.000000   \n",
              "total_rooms              0.198050            0.134153           -0.361262   \n",
              "total_bedrooms          -0.007723            0.049686           -0.320451   \n",
              "population               0.004834           -0.024650           -0.296244   \n",
              "households               0.013033            0.065843           -0.302916   \n",
              "median_income            1.000000            0.688075           -0.119034   \n",
              "median_house_value       0.688075            1.000000            0.105623   \n",
              "\n",
              "                    total_rooms  \n",
              "longitude              0.044568  \n",
              "latitude              -0.036100  \n",
              "housing_median_age    -0.361262  \n",
              "total_rooms            1.000000  \n",
              "total_bedrooms         0.930380  \n",
              "population             0.857126  \n",
              "households             0.918484  \n",
              "median_income          0.198050  \n",
              "median_house_value     0.134153  "
            ],
            "text/html": [
              "\n",
              "  <div id=\"df-dbecdd4d-1e53-4dbc-b270-52d21817e1b8\">\n",
              "    <div class=\"colab-df-container\">\n",
              "      <div>\n",
              "<style scoped>\n",
              "    .dataframe tbody tr th:only-of-type {\n",
              "        vertical-align: middle;\n",
              "    }\n",
              "\n",
              "    .dataframe tbody tr th {\n",
              "        vertical-align: top;\n",
              "    }\n",
              "\n",
              "    .dataframe thead th {\n",
              "        text-align: right;\n",
              "    }\n",
              "</style>\n",
              "<table border=\"1\" class=\"dataframe\">\n",
              "  <thead>\n",
              "    <tr style=\"text-align: right;\">\n",
              "      <th></th>\n",
              "      <th>median_income</th>\n",
              "      <th>median_house_value</th>\n",
              "      <th>housing_median_age</th>\n",
              "      <th>total_rooms</th>\n",
              "    </tr>\n",
              "  </thead>\n",
              "  <tbody>\n",
              "    <tr>\n",
              "      <th>longitude</th>\n",
              "      <td>-0.015176</td>\n",
              "      <td>-0.045967</td>\n",
              "      <td>-0.108197</td>\n",
              "      <td>0.044568</td>\n",
              "    </tr>\n",
              "    <tr>\n",
              "      <th>latitude</th>\n",
              "      <td>-0.079809</td>\n",
              "      <td>-0.144160</td>\n",
              "      <td>0.011173</td>\n",
              "      <td>-0.036100</td>\n",
              "    </tr>\n",
              "    <tr>\n",
              "      <th>housing_median_age</th>\n",
              "      <td>-0.119034</td>\n",
              "      <td>0.105623</td>\n",
              "      <td>1.000000</td>\n",
              "      <td>-0.361262</td>\n",
              "    </tr>\n",
              "    <tr>\n",
              "      <th>total_rooms</th>\n",
              "      <td>0.198050</td>\n",
              "      <td>0.134153</td>\n",
              "      <td>-0.361262</td>\n",
              "      <td>1.000000</td>\n",
              "    </tr>\n",
              "    <tr>\n",
              "      <th>total_bedrooms</th>\n",
              "      <td>-0.007723</td>\n",
              "      <td>0.049686</td>\n",
              "      <td>-0.320451</td>\n",
              "      <td>0.930380</td>\n",
              "    </tr>\n",
              "    <tr>\n",
              "      <th>population</th>\n",
              "      <td>0.004834</td>\n",
              "      <td>-0.024650</td>\n",
              "      <td>-0.296244</td>\n",
              "      <td>0.857126</td>\n",
              "    </tr>\n",
              "    <tr>\n",
              "      <th>households</th>\n",
              "      <td>0.013033</td>\n",
              "      <td>0.065843</td>\n",
              "      <td>-0.302916</td>\n",
              "      <td>0.918484</td>\n",
              "    </tr>\n",
              "    <tr>\n",
              "      <th>median_income</th>\n",
              "      <td>1.000000</td>\n",
              "      <td>0.688075</td>\n",
              "      <td>-0.119034</td>\n",
              "      <td>0.198050</td>\n",
              "    </tr>\n",
              "    <tr>\n",
              "      <th>median_house_value</th>\n",
              "      <td>0.688075</td>\n",
              "      <td>1.000000</td>\n",
              "      <td>0.105623</td>\n",
              "      <td>0.134153</td>\n",
              "    </tr>\n",
              "  </tbody>\n",
              "</table>\n",
              "</div>\n",
              "      <button class=\"colab-df-convert\" onclick=\"convertToInteractive('df-dbecdd4d-1e53-4dbc-b270-52d21817e1b8')\"\n",
              "              title=\"Convert this dataframe to an interactive table.\"\n",
              "              style=\"display:none;\">\n",
              "        \n",
              "  <svg xmlns=\"http://www.w3.org/2000/svg\" height=\"24px\"viewBox=\"0 0 24 24\"\n",
              "       width=\"24px\">\n",
              "    <path d=\"M0 0h24v24H0V0z\" fill=\"none\"/>\n",
              "    <path d=\"M18.56 5.44l.94 2.06.94-2.06 2.06-.94-2.06-.94-.94-2.06-.94 2.06-2.06.94zm-11 1L8.5 8.5l.94-2.06 2.06-.94-2.06-.94L8.5 2.5l-.94 2.06-2.06.94zm10 10l.94 2.06.94-2.06 2.06-.94-2.06-.94-.94-2.06-.94 2.06-2.06.94z\"/><path d=\"M17.41 7.96l-1.37-1.37c-.4-.4-.92-.59-1.43-.59-.52 0-1.04.2-1.43.59L10.3 9.45l-7.72 7.72c-.78.78-.78 2.05 0 2.83L4 21.41c.39.39.9.59 1.41.59.51 0 1.02-.2 1.41-.59l7.78-7.78 2.81-2.81c.8-.78.8-2.07 0-2.86zM5.41 20L4 18.59l7.72-7.72 1.47 1.35L5.41 20z\"/>\n",
              "  </svg>\n",
              "      </button>\n",
              "      \n",
              "  <style>\n",
              "    .colab-df-container {\n",
              "      display:flex;\n",
              "      flex-wrap:wrap;\n",
              "      gap: 12px;\n",
              "    }\n",
              "\n",
              "    .colab-df-convert {\n",
              "      background-color: #E8F0FE;\n",
              "      border: none;\n",
              "      border-radius: 50%;\n",
              "      cursor: pointer;\n",
              "      display: none;\n",
              "      fill: #1967D2;\n",
              "      height: 32px;\n",
              "      padding: 0 0 0 0;\n",
              "      width: 32px;\n",
              "    }\n",
              "\n",
              "    .colab-df-convert:hover {\n",
              "      background-color: #E2EBFA;\n",
              "      box-shadow: 0px 1px 2px rgba(60, 64, 67, 0.3), 0px 1px 3px 1px rgba(60, 64, 67, 0.15);\n",
              "      fill: #174EA6;\n",
              "    }\n",
              "\n",
              "    [theme=dark] .colab-df-convert {\n",
              "      background-color: #3B4455;\n",
              "      fill: #D2E3FC;\n",
              "    }\n",
              "\n",
              "    [theme=dark] .colab-df-convert:hover {\n",
              "      background-color: #434B5C;\n",
              "      box-shadow: 0px 1px 3px 1px rgba(0, 0, 0, 0.15);\n",
              "      filter: drop-shadow(0px 1px 2px rgba(0, 0, 0, 0.3));\n",
              "      fill: #FFFFFF;\n",
              "    }\n",
              "  </style>\n",
              "\n",
              "      <script>\n",
              "        const buttonEl =\n",
              "          document.querySelector('#df-dbecdd4d-1e53-4dbc-b270-52d21817e1b8 button.colab-df-convert');\n",
              "        buttonEl.style.display =\n",
              "          google.colab.kernel.accessAllowed ? 'block' : 'none';\n",
              "\n",
              "        async function convertToInteractive(key) {\n",
              "          const element = document.querySelector('#df-dbecdd4d-1e53-4dbc-b270-52d21817e1b8');\n",
              "          const dataTable =\n",
              "            await google.colab.kernel.invokeFunction('convertToInteractive',\n",
              "                                                     [key], {});\n",
              "          if (!dataTable) return;\n",
              "\n",
              "          const docLinkHtml = 'Like what you see? Visit the ' +\n",
              "            '<a target=\"_blank\" href=https://colab.research.google.com/notebooks/data_table.ipynb>data table notebook</a>'\n",
              "            + ' to learn more about interactive tables.';\n",
              "          element.innerHTML = '';\n",
              "          dataTable['output_type'] = 'display_data';\n",
              "          await google.colab.output.renderOutput(dataTable, element);\n",
              "          const docLink = document.createElement('div');\n",
              "          docLink.innerHTML = docLinkHtml;\n",
              "          element.appendChild(docLink);\n",
              "        }\n",
              "      </script>\n",
              "    </div>\n",
              "  </div>\n",
              "  "
            ]
          },
          "metadata": {},
          "execution_count": 77
        }
      ]
    },
    {
      "cell_type": "code",
      "source": [
        "x=data[['median_income','housing_median_age','total_rooms']]\n",
        "y=data['median_house_value'].values.reshape(-1,1)\n"
      ],
      "metadata": {
        "id": "LljMTH4EZqkt"
      },
      "execution_count": null,
      "outputs": []
    },
    {
      "cell_type": "code",
      "source": [
        "from sklearn.model_selection import train_test_split\n",
        "xtrain,xtest,ytrain,ytest=train_test_split(x,y,test_size=0.2,random_state=42)"
      ],
      "metadata": {
        "id": "2zI7tgS5aKTE"
      },
      "execution_count": null,
      "outputs": []
    },
    {
      "cell_type": "code",
      "source": [
        "(xtrain.shape,ytrain.shape)"
      ],
      "metadata": {
        "colab": {
          "base_uri": "https://localhost:8080/"
        },
        "id": "gmOh7zLXagw0",
        "outputId": "bd8aa1b9-e551-4c20-e622-f7a2c6db3c4b"
      },
      "execution_count": null,
      "outputs": [
        {
          "output_type": "execute_result",
          "data": {
            "text/plain": [
              "((16512, 3), (16512, 1))"
            ]
          },
          "metadata": {},
          "execution_count": 80
        }
      ]
    },
    {
      "cell_type": "code",
      "source": [
        "from tensorflow.keras.layers import Dense\n",
        "from tensorflow.keras.models import Sequential"
      ],
      "metadata": {
        "id": "D6APvdatamRF"
      },
      "execution_count": null,
      "outputs": []
    },
    {
      "cell_type": "markdown",
      "source": [
        "We are going to try different models with different activation functions and different optimizers."
      ],
      "metadata": {
        "id": "rxzpTN6schPJ"
      }
    },
    {
      "cell_type": "markdown",
      "source": [
        "First, I am going to use relu as an activation function along with adam optimizer."
      ],
      "metadata": {
        "id": "JJho40Oscm-L"
      }
    },
    {
      "cell_type": "code",
      "source": [
        "model=Sequential()\n",
        "model.add(Dense(50,activation='relu',input_dim=3))\n",
        "model.add(Dense(150,activation='relu'))\n",
        "model.add(Dense(200,activation='relu'))\n",
        "model.add(Dense(1,activation='softmax'))\n",
        "model.summary()\n",
        "model.compile(loss='mean_absolute_error', optimizer='adam',metrics=['mean_absolute_error'])\n",
        "model.fit(xtrain,ytrain,epochs=25)"
      ],
      "metadata": {
        "colab": {
          "base_uri": "https://localhost:8080/"
        },
        "id": "pQ0SjwRpa3zK",
        "outputId": "c02e7445-c048-44e9-d78d-ee94a6ff29c0"
      },
      "execution_count": null,
      "outputs": [
        {
          "output_type": "stream",
          "name": "stdout",
          "text": [
            "Model: \"sequential_22\"\n",
            "_________________________________________________________________\n",
            " Layer (type)                Output Shape              Param #   \n",
            "=================================================================\n",
            " dense_86 (Dense)            (None, 50)                200       \n",
            "                                                                 \n",
            " dense_87 (Dense)            (None, 150)               7650      \n",
            "                                                                 \n",
            " dense_88 (Dense)            (None, 200)               30200     \n",
            "                                                                 \n",
            " dense_89 (Dense)            (None, 1)                 201       \n",
            "                                                                 \n",
            "=================================================================\n",
            "Total params: 38,251\n",
            "Trainable params: 38,251\n",
            "Non-trainable params: 0\n",
            "_________________________________________________________________\n",
            "Epoch 1/25\n",
            "516/516 [==============================] - 2s 3ms/step - loss: 207193.6719 - mean_absolute_error: 207193.6719\n",
            "Epoch 2/25\n",
            "516/516 [==============================] - 1s 2ms/step - loss: 207193.6719 - mean_absolute_error: 207193.6719\n",
            "Epoch 3/25\n",
            "516/516 [==============================] - 1s 2ms/step - loss: 207193.6875 - mean_absolute_error: 207193.6875\n",
            "Epoch 4/25\n",
            "516/516 [==============================] - 1s 2ms/step - loss: 207193.7969 - mean_absolute_error: 207193.7969\n",
            "Epoch 5/25\n",
            "516/516 [==============================] - 1s 2ms/step - loss: 207193.5938 - mean_absolute_error: 207193.5938\n",
            "Epoch 6/25\n",
            "516/516 [==============================] - 1s 2ms/step - loss: 207193.6094 - mean_absolute_error: 207193.6094\n",
            "Epoch 7/25\n",
            "516/516 [==============================] - 1s 2ms/step - loss: 207193.6250 - mean_absolute_error: 207193.6250\n",
            "Epoch 8/25\n",
            "516/516 [==============================] - 1s 2ms/step - loss: 207193.5938 - mean_absolute_error: 207193.5938\n",
            "Epoch 9/25\n",
            "516/516 [==============================] - 1s 2ms/step - loss: 207193.7344 - mean_absolute_error: 207193.7344\n",
            "Epoch 10/25\n",
            "516/516 [==============================] - 1s 2ms/step - loss: 207193.7500 - mean_absolute_error: 207193.7500\n",
            "Epoch 11/25\n",
            "516/516 [==============================] - 1s 2ms/step - loss: 207193.7188 - mean_absolute_error: 207193.7188\n",
            "Epoch 12/25\n",
            "516/516 [==============================] - 1s 2ms/step - loss: 207193.6406 - mean_absolute_error: 207193.6406\n",
            "Epoch 13/25\n",
            "516/516 [==============================] - 1s 2ms/step - loss: 207193.5781 - mean_absolute_error: 207193.5781\n",
            "Epoch 14/25\n",
            "516/516 [==============================] - 1s 2ms/step - loss: 207193.6406 - mean_absolute_error: 207193.6406\n",
            "Epoch 15/25\n",
            "516/516 [==============================] - 1s 2ms/step - loss: 207193.7500 - mean_absolute_error: 207193.7500\n",
            "Epoch 16/25\n",
            "516/516 [==============================] - 1s 2ms/step - loss: 207193.7188 - mean_absolute_error: 207193.7188\n",
            "Epoch 17/25\n",
            "516/516 [==============================] - 1s 2ms/step - loss: 207193.8281 - mean_absolute_error: 207193.8281\n",
            "Epoch 18/25\n",
            "516/516 [==============================] - 1s 2ms/step - loss: 207193.7656 - mean_absolute_error: 207193.7656\n",
            "Epoch 19/25\n",
            "516/516 [==============================] - 1s 2ms/step - loss: 207193.6875 - mean_absolute_error: 207193.6875\n",
            "Epoch 20/25\n",
            "516/516 [==============================] - 1s 2ms/step - loss: 207193.7188 - mean_absolute_error: 207193.7188\n",
            "Epoch 21/25\n",
            "516/516 [==============================] - 1s 2ms/step - loss: 207193.5938 - mean_absolute_error: 207193.5938\n",
            "Epoch 22/25\n",
            "516/516 [==============================] - 1s 2ms/step - loss: 207193.6250 - mean_absolute_error: 207193.6250\n",
            "Epoch 23/25\n",
            "516/516 [==============================] - 1s 2ms/step - loss: 207193.7188 - mean_absolute_error: 207193.7188\n",
            "Epoch 24/25\n",
            "516/516 [==============================] - 1s 2ms/step - loss: 207193.8438 - mean_absolute_error: 207193.8438\n",
            "Epoch 25/25\n",
            "516/516 [==============================] - 1s 2ms/step - loss: 207193.8125 - mean_absolute_error: 207193.8125\n"
          ]
        },
        {
          "output_type": "execute_result",
          "data": {
            "text/plain": [
              "<keras.callbacks.History at 0x7f2af399a4f0>"
            ]
          },
          "metadata": {},
          "execution_count": 82
        }
      ]
    },
    {
      "cell_type": "markdown",
      "source": [
        "I am going to use relu as an activation function along with SGD optimizer."
      ],
      "metadata": {
        "id": "uqR2bKccceHH"
      }
    },
    {
      "cell_type": "code",
      "source": [
        "model1=Sequential()\n",
        "model1.add(Dense(50,activation='relu',input_dim=3))\n",
        "model1.add(Dense(150,activation='relu'))\n",
        "model1.add(Dense(200,activation='relu'))\n",
        "model1.add(Dense(1,activation='softmax'))\n",
        "model1.summary()\n",
        "model1.compile(loss='mean_absolute_error', optimizer='SGD',metrics=['mean_absolute_error'])\n",
        "model1.fit(xtrain,ytrain,epochs=25)"
      ],
      "metadata": {
        "colab": {
          "base_uri": "https://localhost:8080/"
        },
        "id": "sukA9BahbaNS",
        "outputId": "f56ea630-d478-4691-8904-293b33b6402a"
      },
      "execution_count": null,
      "outputs": [
        {
          "output_type": "stream",
          "name": "stdout",
          "text": [
            "Model: \"sequential_23\"\n",
            "_________________________________________________________________\n",
            " Layer (type)                Output Shape              Param #   \n",
            "=================================================================\n",
            " dense_90 (Dense)            (None, 50)                200       \n",
            "                                                                 \n",
            " dense_91 (Dense)            (None, 150)               7650      \n",
            "                                                                 \n",
            " dense_92 (Dense)            (None, 200)               30200     \n",
            "                                                                 \n",
            " dense_93 (Dense)            (None, 1)                 201       \n",
            "                                                                 \n",
            "=================================================================\n",
            "Total params: 38,251\n",
            "Trainable params: 38,251\n",
            "Non-trainable params: 0\n",
            "_________________________________________________________________\n",
            "Epoch 1/25\n",
            "516/516 [==============================] - 1s 2ms/step - loss: 207193.7188 - mean_absolute_error: 207193.7188\n",
            "Epoch 2/25\n",
            "516/516 [==============================] - 1s 2ms/step - loss: 207193.6875 - mean_absolute_error: 207193.6875\n",
            "Epoch 3/25\n",
            "516/516 [==============================] - 1s 2ms/step - loss: 207193.7500 - mean_absolute_error: 207193.7500\n",
            "Epoch 4/25\n",
            "516/516 [==============================] - 1s 2ms/step - loss: 207193.7031 - mean_absolute_error: 207193.7031\n",
            "Epoch 5/25\n",
            "516/516 [==============================] - 1s 2ms/step - loss: 207193.8438 - mean_absolute_error: 207193.8438\n",
            "Epoch 6/25\n",
            "516/516 [==============================] - 1s 2ms/step - loss: 207193.7500 - mean_absolute_error: 207193.7500\n",
            "Epoch 7/25\n",
            "516/516 [==============================] - 1s 2ms/step - loss: 207193.6250 - mean_absolute_error: 207193.6250\n",
            "Epoch 8/25\n",
            "516/516 [==============================] - 1s 2ms/step - loss: 207193.6250 - mean_absolute_error: 207193.6250\n",
            "Epoch 9/25\n",
            "516/516 [==============================] - 1s 2ms/step - loss: 207193.7188 - mean_absolute_error: 207193.7188\n",
            "Epoch 10/25\n",
            "516/516 [==============================] - 1s 2ms/step - loss: 207193.7031 - mean_absolute_error: 207193.7031\n",
            "Epoch 11/25\n",
            "516/516 [==============================] - 1s 2ms/step - loss: 207193.6875 - mean_absolute_error: 207193.6875\n",
            "Epoch 12/25\n",
            "516/516 [==============================] - 1s 2ms/step - loss: 207193.6562 - mean_absolute_error: 207193.6562\n",
            "Epoch 13/25\n",
            "516/516 [==============================] - 1s 2ms/step - loss: 207193.5781 - mean_absolute_error: 207193.5781\n",
            "Epoch 14/25\n",
            "516/516 [==============================] - 1s 2ms/step - loss: 207193.7188 - mean_absolute_error: 207193.7188\n",
            "Epoch 15/25\n",
            "516/516 [==============================] - 1s 2ms/step - loss: 207193.7656 - mean_absolute_error: 207193.7656\n",
            "Epoch 16/25\n",
            "516/516 [==============================] - 1s 2ms/step - loss: 207193.6719 - mean_absolute_error: 207193.6719\n",
            "Epoch 17/25\n",
            "516/516 [==============================] - 1s 2ms/step - loss: 207193.5938 - mean_absolute_error: 207193.5938\n",
            "Epoch 18/25\n",
            "516/516 [==============================] - 1s 2ms/step - loss: 207193.7812 - mean_absolute_error: 207193.7812\n",
            "Epoch 19/25\n",
            "516/516 [==============================] - 1s 2ms/step - loss: 207193.6406 - mean_absolute_error: 207193.6406\n",
            "Epoch 20/25\n",
            "516/516 [==============================] - 1s 2ms/step - loss: 207193.6875 - mean_absolute_error: 207193.6875\n",
            "Epoch 21/25\n",
            "516/516 [==============================] - 1s 2ms/step - loss: 207193.7656 - mean_absolute_error: 207193.7656\n",
            "Epoch 22/25\n",
            "516/516 [==============================] - 1s 2ms/step - loss: 207193.6250 - mean_absolute_error: 207193.6250\n",
            "Epoch 23/25\n",
            "516/516 [==============================] - 1s 2ms/step - loss: 207193.6719 - mean_absolute_error: 207193.6719\n",
            "Epoch 24/25\n",
            "516/516 [==============================] - 1s 2ms/step - loss: 207193.6250 - mean_absolute_error: 207193.6250\n",
            "Epoch 25/25\n",
            "516/516 [==============================] - 1s 2ms/step - loss: 207193.5625 - mean_absolute_error: 207193.5625\n"
          ]
        },
        {
          "output_type": "execute_result",
          "data": {
            "text/plain": [
              "<keras.callbacks.History at 0x7f2af38f6490>"
            ]
          },
          "metadata": {},
          "execution_count": 83
        }
      ]
    },
    {
      "cell_type": "markdown",
      "source": [
        "I am going to use relu as an activation function along with RMSprop optimizer."
      ],
      "metadata": {
        "id": "7DZUogrAcw9Q"
      }
    },
    {
      "cell_type": "code",
      "source": [
        "model2=Sequential()\n",
        "model2.add(Dense(50,activation='relu',input_dim=3))\n",
        "model2.add(Dense(150,activation='relu'))\n",
        "model2.add(Dense(200,activation='relu'))\n",
        "model2.add(Dense(1,activation='softmax'))\n",
        "model2.summary()\n",
        "model2.compile(loss='mean_absolute_error', optimizer='RMSprop',metrics=['mean_absolute_error'])\n",
        "model2.fit(xtrain,ytrain,epochs=25)"
      ],
      "metadata": {
        "colab": {
          "base_uri": "https://localhost:8080/"
        },
        "id": "nd7h7-Bbbcih",
        "outputId": "9b6d501b-35d2-4b31-ba39-1b9d4786826c"
      },
      "execution_count": null,
      "outputs": [
        {
          "output_type": "stream",
          "name": "stdout",
          "text": [
            "Model: \"sequential_24\"\n",
            "_________________________________________________________________\n",
            " Layer (type)                Output Shape              Param #   \n",
            "=================================================================\n",
            " dense_94 (Dense)            (None, 50)                200       \n",
            "                                                                 \n",
            " dense_95 (Dense)            (None, 150)               7650      \n",
            "                                                                 \n",
            " dense_96 (Dense)            (None, 200)               30200     \n",
            "                                                                 \n",
            " dense_97 (Dense)            (None, 1)                 201       \n",
            "                                                                 \n",
            "=================================================================\n",
            "Total params: 38,251\n",
            "Trainable params: 38,251\n",
            "Non-trainable params: 0\n",
            "_________________________________________________________________\n",
            "Epoch 1/25\n",
            "516/516 [==============================] - 2s 2ms/step - loss: 207193.8438 - mean_absolute_error: 207193.8438\n",
            "Epoch 2/25\n",
            "516/516 [==============================] - 1s 2ms/step - loss: 207193.7344 - mean_absolute_error: 207193.7344\n",
            "Epoch 3/25\n",
            "516/516 [==============================] - 1s 2ms/step - loss: 207193.6875 - mean_absolute_error: 207193.6875\n",
            "Epoch 4/25\n",
            "516/516 [==============================] - 1s 2ms/step - loss: 207193.7500 - mean_absolute_error: 207193.7500\n",
            "Epoch 5/25\n",
            "516/516 [==============================] - 1s 2ms/step - loss: 207193.6094 - mean_absolute_error: 207193.6094\n",
            "Epoch 6/25\n",
            "516/516 [==============================] - 1s 2ms/step - loss: 207193.6562 - mean_absolute_error: 207193.6562\n",
            "Epoch 7/25\n",
            "516/516 [==============================] - 1s 2ms/step - loss: 207193.7344 - mean_absolute_error: 207193.7344\n",
            "Epoch 8/25\n",
            "516/516 [==============================] - 1s 2ms/step - loss: 207193.6562 - mean_absolute_error: 207193.6562\n",
            "Epoch 9/25\n",
            "516/516 [==============================] - 1s 2ms/step - loss: 207193.6562 - mean_absolute_error: 207193.6562\n",
            "Epoch 10/25\n",
            "516/516 [==============================] - 1s 2ms/step - loss: 207193.5469 - mean_absolute_error: 207193.5469\n",
            "Epoch 11/25\n",
            "516/516 [==============================] - 1s 2ms/step - loss: 207193.7500 - mean_absolute_error: 207193.7500\n",
            "Epoch 12/25\n",
            "516/516 [==============================] - 1s 2ms/step - loss: 207193.5938 - mean_absolute_error: 207193.5938\n",
            "Epoch 13/25\n",
            "516/516 [==============================] - 1s 2ms/step - loss: 207193.6250 - mean_absolute_error: 207193.6250\n",
            "Epoch 14/25\n",
            "516/516 [==============================] - 1s 2ms/step - loss: 207193.6562 - mean_absolute_error: 207193.6562\n",
            "Epoch 15/25\n",
            "516/516 [==============================] - 1s 2ms/step - loss: 207193.6094 - mean_absolute_error: 207193.6094\n",
            "Epoch 16/25\n",
            "516/516 [==============================] - 1s 2ms/step - loss: 207193.7812 - mean_absolute_error: 207193.7812\n",
            "Epoch 17/25\n",
            "516/516 [==============================] - 1s 2ms/step - loss: 207193.6719 - mean_absolute_error: 207193.6719\n",
            "Epoch 18/25\n",
            "516/516 [==============================] - 1s 2ms/step - loss: 207193.6719 - mean_absolute_error: 207193.6719\n",
            "Epoch 19/25\n",
            "516/516 [==============================] - 1s 2ms/step - loss: 207193.6250 - mean_absolute_error: 207193.6250\n",
            "Epoch 20/25\n",
            "516/516 [==============================] - 1s 2ms/step - loss: 207193.7344 - mean_absolute_error: 207193.7344\n",
            "Epoch 21/25\n",
            "516/516 [==============================] - 1s 2ms/step - loss: 207193.6875 - mean_absolute_error: 207193.6875\n",
            "Epoch 22/25\n",
            "516/516 [==============================] - 1s 2ms/step - loss: 207193.7031 - mean_absolute_error: 207193.7031\n",
            "Epoch 23/25\n",
            "516/516 [==============================] - 1s 2ms/step - loss: 207193.6875 - mean_absolute_error: 207193.6875\n",
            "Epoch 24/25\n",
            "516/516 [==============================] - 1s 2ms/step - loss: 207193.7656 - mean_absolute_error: 207193.7656\n",
            "Epoch 25/25\n",
            "516/516 [==============================] - 1s 2ms/step - loss: 207193.7500 - mean_absolute_error: 207193.7500\n"
          ]
        },
        {
          "output_type": "execute_result",
          "data": {
            "text/plain": [
              "<keras.callbacks.History at 0x7f2af3a08e50>"
            ]
          },
          "metadata": {},
          "execution_count": 84
        }
      ]
    },
    {
      "cell_type": "markdown",
      "source": [
        "I am going to change the activation function to linear and try different optimizers for the models."
      ],
      "metadata": {
        "id": "tsErAnU-c2CA"
      }
    },
    {
      "cell_type": "markdown",
      "source": [
        "I am going to use linear as an activation function along with adam optimizer."
      ],
      "metadata": {
        "id": "Hem-mkZjc7Zh"
      }
    },
    {
      "cell_type": "code",
      "source": [
        "model3=Sequential()\n",
        "model3.add(Dense(50,activation='linear',input_dim=3))\n",
        "model3.add(Dense(150,activation='linear'))\n",
        "model3.add(Dense(200,activation='linear'))\n",
        "model3.add(Dense(1,activation='softmax'))\n",
        "model3.summary()\n",
        "model3.compile(loss='mean_absolute_error', optimizer='adam',metrics=['mean_absolute_error'])\n",
        "model3.fit(xtrain,ytrain,epochs=25)"
      ],
      "metadata": {
        "colab": {
          "base_uri": "https://localhost:8080/"
        },
        "id": "MzBOBJLAbdIV",
        "outputId": "1b504c6f-ba9f-4c0c-9ccf-fef4b0d1ee19"
      },
      "execution_count": null,
      "outputs": [
        {
          "output_type": "stream",
          "name": "stdout",
          "text": [
            "Model: \"sequential_25\"\n",
            "_________________________________________________________________\n",
            " Layer (type)                Output Shape              Param #   \n",
            "=================================================================\n",
            " dense_98 (Dense)            (None, 50)                200       \n",
            "                                                                 \n",
            " dense_99 (Dense)            (None, 150)               7650      \n",
            "                                                                 \n",
            " dense_100 (Dense)           (None, 200)               30200     \n",
            "                                                                 \n",
            " dense_101 (Dense)           (None, 1)                 201       \n",
            "                                                                 \n",
            "=================================================================\n",
            "Total params: 38,251\n",
            "Trainable params: 38,251\n",
            "Non-trainable params: 0\n",
            "_________________________________________________________________\n",
            "Epoch 1/25\n",
            "516/516 [==============================] - 2s 2ms/step - loss: 207193.7031 - mean_absolute_error: 207193.7031\n",
            "Epoch 2/25\n",
            "516/516 [==============================] - 1s 2ms/step - loss: 207193.6094 - mean_absolute_error: 207193.6094\n",
            "Epoch 3/25\n",
            "516/516 [==============================] - 1s 2ms/step - loss: 207193.6250 - mean_absolute_error: 207193.6250\n",
            "Epoch 4/25\n",
            "516/516 [==============================] - 1s 2ms/step - loss: 207193.7031 - mean_absolute_error: 207193.7031\n",
            "Epoch 5/25\n",
            "516/516 [==============================] - 1s 2ms/step - loss: 207193.5781 - mean_absolute_error: 207193.5781\n",
            "Epoch 6/25\n",
            "516/516 [==============================] - 1s 2ms/step - loss: 207193.7812 - mean_absolute_error: 207193.7812\n",
            "Epoch 7/25\n",
            "516/516 [==============================] - 1s 2ms/step - loss: 207193.7344 - mean_absolute_error: 207193.7344\n",
            "Epoch 8/25\n",
            "516/516 [==============================] - 1s 2ms/step - loss: 207193.5781 - mean_absolute_error: 207193.5781\n",
            "Epoch 9/25\n",
            "516/516 [==============================] - 1s 2ms/step - loss: 207193.5312 - mean_absolute_error: 207193.5312\n",
            "Epoch 10/25\n",
            "516/516 [==============================] - 1s 2ms/step - loss: 207193.6875 - mean_absolute_error: 207193.6875\n",
            "Epoch 11/25\n",
            "516/516 [==============================] - 1s 2ms/step - loss: 207193.5625 - mean_absolute_error: 207193.5625\n",
            "Epoch 12/25\n",
            "516/516 [==============================] - 1s 2ms/step - loss: 207193.6250 - mean_absolute_error: 207193.6250\n",
            "Epoch 13/25\n",
            "516/516 [==============================] - 1s 2ms/step - loss: 207193.7656 - mean_absolute_error: 207193.7656\n",
            "Epoch 14/25\n",
            "516/516 [==============================] - 1s 2ms/step - loss: 207193.6719 - mean_absolute_error: 207193.6719\n",
            "Epoch 15/25\n",
            "516/516 [==============================] - 1s 2ms/step - loss: 207193.7500 - mean_absolute_error: 207193.7500\n",
            "Epoch 16/25\n",
            "516/516 [==============================] - 1s 2ms/step - loss: 207193.7812 - mean_absolute_error: 207193.7812\n",
            "Epoch 17/25\n",
            "516/516 [==============================] - 1s 2ms/step - loss: 207193.6875 - mean_absolute_error: 207193.6875\n",
            "Epoch 18/25\n",
            "516/516 [==============================] - 1s 2ms/step - loss: 207193.7500 - mean_absolute_error: 207193.7500\n",
            "Epoch 19/25\n",
            "516/516 [==============================] - 1s 2ms/step - loss: 207193.6094 - mean_absolute_error: 207193.6094\n",
            "Epoch 20/25\n",
            "516/516 [==============================] - 1s 2ms/step - loss: 207193.6094 - mean_absolute_error: 207193.6094\n",
            "Epoch 21/25\n",
            "516/516 [==============================] - 1s 2ms/step - loss: 207193.7656 - mean_absolute_error: 207193.7656\n",
            "Epoch 22/25\n",
            "516/516 [==============================] - 1s 2ms/step - loss: 207193.7031 - mean_absolute_error: 207193.7031\n",
            "Epoch 23/25\n",
            "516/516 [==============================] - 1s 2ms/step - loss: 207193.6406 - mean_absolute_error: 207193.6406\n",
            "Epoch 24/25\n",
            "516/516 [==============================] - 1s 2ms/step - loss: 207193.7188 - mean_absolute_error: 207193.7188\n",
            "Epoch 25/25\n",
            "516/516 [==============================] - 1s 2ms/step - loss: 207193.6406 - mean_absolute_error: 207193.6406\n"
          ]
        },
        {
          "output_type": "execute_result",
          "data": {
            "text/plain": [
              "<keras.callbacks.History at 0x7f2af36ef3d0>"
            ]
          },
          "metadata": {},
          "execution_count": 85
        }
      ]
    },
    {
      "cell_type": "markdown",
      "source": [
        "I am going to use linear as an activation function along with SGD optimizer."
      ],
      "metadata": {
        "id": "DV-tIhvrc_EV"
      }
    },
    {
      "cell_type": "code",
      "source": [
        "model4=Sequential()\n",
        "model4.add(Dense(50,activation='linear',input_dim=3))\n",
        "model4.add(Dense(150,activation='linear'))\n",
        "model4.add(Dense(200,activation='linear'))\n",
        "model4.add(Dense(1,activation='softmax'))\n",
        "model4.summary()\n",
        "model4.compile(loss='mean_absolute_error', optimizer='SGD',metrics=['mean_absolute_error'])\n",
        "model4.fit(xtrain,ytrain,epochs=25)"
      ],
      "metadata": {
        "colab": {
          "base_uri": "https://localhost:8080/"
        },
        "id": "AdgOJNPFbdsq",
        "outputId": "a63cb8bd-b8aa-4603-9489-16d1fba7d685"
      },
      "execution_count": null,
      "outputs": [
        {
          "output_type": "stream",
          "name": "stdout",
          "text": [
            "Model: \"sequential_26\"\n",
            "_________________________________________________________________\n",
            " Layer (type)                Output Shape              Param #   \n",
            "=================================================================\n",
            " dense_102 (Dense)           (None, 50)                200       \n",
            "                                                                 \n",
            " dense_103 (Dense)           (None, 150)               7650      \n",
            "                                                                 \n",
            " dense_104 (Dense)           (None, 200)               30200     \n",
            "                                                                 \n",
            " dense_105 (Dense)           (None, 1)                 201       \n",
            "                                                                 \n",
            "=================================================================\n",
            "Total params: 38,251\n",
            "Trainable params: 38,251\n",
            "Non-trainable params: 0\n",
            "_________________________________________________________________\n",
            "Epoch 1/25\n",
            "516/516 [==============================] - 1s 2ms/step - loss: 207193.7500 - mean_absolute_error: 207193.7500\n",
            "Epoch 2/25\n",
            "516/516 [==============================] - 1s 2ms/step - loss: 207193.7344 - mean_absolute_error: 207193.7344\n",
            "Epoch 3/25\n",
            "516/516 [==============================] - 1s 2ms/step - loss: 207193.6562 - mean_absolute_error: 207193.6562\n",
            "Epoch 4/25\n",
            "516/516 [==============================] - 1s 3ms/step - loss: 207193.8281 - mean_absolute_error: 207193.8281\n",
            "Epoch 5/25\n",
            "516/516 [==============================] - 1s 3ms/step - loss: 207193.6562 - mean_absolute_error: 207193.6562\n",
            "Epoch 6/25\n",
            "516/516 [==============================] - 1s 3ms/step - loss: 207193.7500 - mean_absolute_error: 207193.7500\n",
            "Epoch 7/25\n",
            "516/516 [==============================] - 1s 3ms/step - loss: 207193.7812 - mean_absolute_error: 207193.7812\n",
            "Epoch 8/25\n",
            "516/516 [==============================] - 1s 2ms/step - loss: 207193.5625 - mean_absolute_error: 207193.5625\n",
            "Epoch 9/25\n",
            "516/516 [==============================] - 1s 2ms/step - loss: 207193.7500 - mean_absolute_error: 207193.7500\n",
            "Epoch 10/25\n",
            "516/516 [==============================] - 1s 2ms/step - loss: 207193.6562 - mean_absolute_error: 207193.6562\n",
            "Epoch 11/25\n",
            "516/516 [==============================] - 1s 2ms/step - loss: 207193.7500 - mean_absolute_error: 207193.7500\n",
            "Epoch 12/25\n",
            "516/516 [==============================] - 1s 2ms/step - loss: 207193.6562 - mean_absolute_error: 207193.6562\n",
            "Epoch 13/25\n",
            "516/516 [==============================] - 1s 2ms/step - loss: 207193.7344 - mean_absolute_error: 207193.7344\n",
            "Epoch 14/25\n",
            "516/516 [==============================] - 1s 2ms/step - loss: 207193.7031 - mean_absolute_error: 207193.7031\n",
            "Epoch 15/25\n",
            "516/516 [==============================] - 1s 2ms/step - loss: 207193.6094 - mean_absolute_error: 207193.6094\n",
            "Epoch 16/25\n",
            "516/516 [==============================] - 1s 2ms/step - loss: 207193.6875 - mean_absolute_error: 207193.6875\n",
            "Epoch 17/25\n",
            "516/516 [==============================] - 1s 2ms/step - loss: 207193.7031 - mean_absolute_error: 207193.7031\n",
            "Epoch 18/25\n",
            "516/516 [==============================] - 1s 2ms/step - loss: 207193.6562 - mean_absolute_error: 207193.6562\n",
            "Epoch 19/25\n",
            "516/516 [==============================] - 1s 2ms/step - loss: 207193.6875 - mean_absolute_error: 207193.6875\n",
            "Epoch 20/25\n",
            "516/516 [==============================] - 1s 2ms/step - loss: 207193.7031 - mean_absolute_error: 207193.7031\n",
            "Epoch 21/25\n",
            "516/516 [==============================] - 1s 2ms/step - loss: 207193.8125 - mean_absolute_error: 207193.8125\n",
            "Epoch 22/25\n",
            "516/516 [==============================] - 1s 2ms/step - loss: 207193.8281 - mean_absolute_error: 207193.8281\n",
            "Epoch 23/25\n",
            "516/516 [==============================] - 1s 2ms/step - loss: 207193.6875 - mean_absolute_error: 207193.6875\n",
            "Epoch 24/25\n",
            "516/516 [==============================] - 1s 2ms/step - loss: 207193.6719 - mean_absolute_error: 207193.6719\n",
            "Epoch 25/25\n",
            "516/516 [==============================] - 1s 2ms/step - loss: 207193.6875 - mean_absolute_error: 207193.6875\n"
          ]
        },
        {
          "output_type": "execute_result",
          "data": {
            "text/plain": [
              "<keras.callbacks.History at 0x7f2af364b340>"
            ]
          },
          "metadata": {},
          "execution_count": 86
        }
      ]
    },
    {
      "cell_type": "markdown",
      "source": [
        "I am going to use linear as an activation function along with RMSProp optimizer."
      ],
      "metadata": {
        "id": "drQAlHekdB5o"
      }
    },
    {
      "cell_type": "code",
      "source": [
        "model5=Sequential()\n",
        "model5.add(Dense(50,activation='linear',input_dim=3))\n",
        "model5.add(Dense(150,activation='linear'))\n",
        "model5.add(Dense(200,activation='linear'))\n",
        "model5.add(Dense(1,activation='softmax'))\n",
        "model5.summary()\n",
        "model5.compile(loss='mean_absolute_error', optimizer='RMSprop',metrics=['mean_absolute_error'])\n",
        "model5.fit(xtrain,ytrain,epochs=25)"
      ],
      "metadata": {
        "colab": {
          "base_uri": "https://localhost:8080/"
        },
        "id": "0fNanz1RbeT6",
        "outputId": "4d971696-5213-434f-e1a5-d6edfcabd480"
      },
      "execution_count": null,
      "outputs": [
        {
          "output_type": "stream",
          "name": "stdout",
          "text": [
            "Model: \"sequential_27\"\n",
            "_________________________________________________________________\n",
            " Layer (type)                Output Shape              Param #   \n",
            "=================================================================\n",
            " dense_106 (Dense)           (None, 50)                200       \n",
            "                                                                 \n",
            " dense_107 (Dense)           (None, 150)               7650      \n",
            "                                                                 \n",
            " dense_108 (Dense)           (None, 200)               30200     \n",
            "                                                                 \n",
            " dense_109 (Dense)           (None, 1)                 201       \n",
            "                                                                 \n",
            "=================================================================\n",
            "Total params: 38,251\n",
            "Trainable params: 38,251\n",
            "Non-trainable params: 0\n",
            "_________________________________________________________________\n",
            "Epoch 1/25\n",
            "516/516 [==============================] - 2s 2ms/step - loss: 207193.8281 - mean_absolute_error: 207193.8281\n",
            "Epoch 2/25\n",
            "516/516 [==============================] - 1s 2ms/step - loss: 207193.7344 - mean_absolute_error: 207193.7344\n",
            "Epoch 3/25\n",
            "516/516 [==============================] - 1s 2ms/step - loss: 207193.7031 - mean_absolute_error: 207193.7031\n",
            "Epoch 4/25\n",
            "516/516 [==============================] - 1s 2ms/step - loss: 207193.7812 - mean_absolute_error: 207193.7812\n",
            "Epoch 5/25\n",
            "516/516 [==============================] - 1s 2ms/step - loss: 207193.6094 - mean_absolute_error: 207193.6094\n",
            "Epoch 6/25\n",
            "516/516 [==============================] - 1s 2ms/step - loss: 207193.8125 - mean_absolute_error: 207193.8125\n",
            "Epoch 7/25\n",
            "516/516 [==============================] - 1s 2ms/step - loss: 207193.6875 - mean_absolute_error: 207193.6875\n",
            "Epoch 8/25\n",
            "516/516 [==============================] - 1s 2ms/step - loss: 207193.6875 - mean_absolute_error: 207193.6875\n",
            "Epoch 9/25\n",
            "516/516 [==============================] - 1s 2ms/step - loss: 207193.6719 - mean_absolute_error: 207193.6719\n",
            "Epoch 10/25\n",
            "516/516 [==============================] - 1s 2ms/step - loss: 207193.6875 - mean_absolute_error: 207193.6875\n",
            "Epoch 11/25\n",
            "516/516 [==============================] - 1s 2ms/step - loss: 207193.5938 - mean_absolute_error: 207193.5938\n",
            "Epoch 12/25\n",
            "516/516 [==============================] - 1s 2ms/step - loss: 207193.5938 - mean_absolute_error: 207193.5938\n",
            "Epoch 13/25\n",
            "516/516 [==============================] - 1s 2ms/step - loss: 207193.6562 - mean_absolute_error: 207193.6562\n",
            "Epoch 14/25\n",
            "516/516 [==============================] - 1s 2ms/step - loss: 207193.7031 - mean_absolute_error: 207193.7031\n",
            "Epoch 15/25\n",
            "516/516 [==============================] - 1s 2ms/step - loss: 207193.7812 - mean_absolute_error: 207193.7812\n",
            "Epoch 16/25\n",
            "516/516 [==============================] - 1s 2ms/step - loss: 207193.7031 - mean_absolute_error: 207193.7031\n",
            "Epoch 17/25\n",
            "516/516 [==============================] - 1s 2ms/step - loss: 207193.7031 - mean_absolute_error: 207193.7031\n",
            "Epoch 18/25\n",
            "516/516 [==============================] - 1s 2ms/step - loss: 207193.6406 - mean_absolute_error: 207193.6406\n",
            "Epoch 19/25\n",
            "516/516 [==============================] - 1s 2ms/step - loss: 207193.7500 - mean_absolute_error: 207193.7500\n",
            "Epoch 20/25\n",
            "516/516 [==============================] - 1s 2ms/step - loss: 207193.7344 - mean_absolute_error: 207193.7344\n",
            "Epoch 21/25\n",
            "516/516 [==============================] - 1s 2ms/step - loss: 207193.6562 - mean_absolute_error: 207193.6562\n",
            "Epoch 22/25\n",
            "516/516 [==============================] - 1s 2ms/step - loss: 207193.6719 - mean_absolute_error: 207193.6719\n",
            "Epoch 23/25\n",
            "516/516 [==============================] - 1s 2ms/step - loss: 207193.8281 - mean_absolute_error: 207193.8281\n",
            "Epoch 24/25\n",
            "516/516 [==============================] - 1s 2ms/step - loss: 207193.6875 - mean_absolute_error: 207193.6875\n",
            "Epoch 25/25\n",
            "516/516 [==============================] - 1s 2ms/step - loss: 207193.7188 - mean_absolute_error: 207193.7188\n"
          ]
        },
        {
          "output_type": "execute_result",
          "data": {
            "text/plain": [
              "<keras.callbacks.History at 0x7f2aef518370>"
            ]
          },
          "metadata": {},
          "execution_count": 87
        }
      ]
    },
    {
      "cell_type": "markdown",
      "source": [
        "We have compiled 6 different models with various optimizer and activation function."
      ],
      "metadata": {
        "id": "hxCpGkOGdNi9"
      }
    },
    {
      "cell_type": "markdown",
      "source": [
        "We will evaluate these models with test datasets and check the error in each model."
      ],
      "metadata": {
        "id": "RghJ6y8RdbKz"
      }
    },
    {
      "cell_type": "code",
      "source": [
        "model.evaluate(xtest,ytest)"
      ],
      "metadata": {
        "colab": {
          "base_uri": "https://localhost:8080/"
        },
        "id": "E-L3z5PVdVoW",
        "outputId": "d3a86690-f476-44fb-f6aa-ed2fe496e1b1"
      },
      "execution_count": null,
      "outputs": [
        {
          "output_type": "stream",
          "name": "stdout",
          "text": [
            "129/129 [==============================] - 0s 1ms/step - loss: 205499.2969 - mean_absolute_error: 205499.2969\n"
          ]
        },
        {
          "output_type": "execute_result",
          "data": {
            "text/plain": [
              "[205499.296875, 205499.296875]"
            ]
          },
          "metadata": {},
          "execution_count": 88
        }
      ]
    },
    {
      "cell_type": "code",
      "source": [
        "test=pd.DataFrame({'median_income':[5.3354],'housing_median_age':[14.0],'total_rooms':[300.0]})\n",
        "test"
      ],
      "metadata": {
        "colab": {
          "base_uri": "https://localhost:8080/",
          "height": 81
        },
        "id": "tWF3B4HgjDiI",
        "outputId": "1916173c-365d-4e27-9676-710d37820c7b"
      },
      "execution_count": null,
      "outputs": [
        {
          "output_type": "execute_result",
          "data": {
            "text/plain": [
              "   median_income  housing_median_age  total_rooms\n",
              "0         5.3354                14.0        300.0"
            ],
            "text/html": [
              "\n",
              "  <div id=\"df-63ef0411-4ba7-4f70-94a0-1a70a16f6b86\">\n",
              "    <div class=\"colab-df-container\">\n",
              "      <div>\n",
              "<style scoped>\n",
              "    .dataframe tbody tr th:only-of-type {\n",
              "        vertical-align: middle;\n",
              "    }\n",
              "\n",
              "    .dataframe tbody tr th {\n",
              "        vertical-align: top;\n",
              "    }\n",
              "\n",
              "    .dataframe thead th {\n",
              "        text-align: right;\n",
              "    }\n",
              "</style>\n",
              "<table border=\"1\" class=\"dataframe\">\n",
              "  <thead>\n",
              "    <tr style=\"text-align: right;\">\n",
              "      <th></th>\n",
              "      <th>median_income</th>\n",
              "      <th>housing_median_age</th>\n",
              "      <th>total_rooms</th>\n",
              "    </tr>\n",
              "  </thead>\n",
              "  <tbody>\n",
              "    <tr>\n",
              "      <th>0</th>\n",
              "      <td>5.3354</td>\n",
              "      <td>14.0</td>\n",
              "      <td>300.0</td>\n",
              "    </tr>\n",
              "  </tbody>\n",
              "</table>\n",
              "</div>\n",
              "      <button class=\"colab-df-convert\" onclick=\"convertToInteractive('df-63ef0411-4ba7-4f70-94a0-1a70a16f6b86')\"\n",
              "              title=\"Convert this dataframe to an interactive table.\"\n",
              "              style=\"display:none;\">\n",
              "        \n",
              "  <svg xmlns=\"http://www.w3.org/2000/svg\" height=\"24px\"viewBox=\"0 0 24 24\"\n",
              "       width=\"24px\">\n",
              "    <path d=\"M0 0h24v24H0V0z\" fill=\"none\"/>\n",
              "    <path d=\"M18.56 5.44l.94 2.06.94-2.06 2.06-.94-2.06-.94-.94-2.06-.94 2.06-2.06.94zm-11 1L8.5 8.5l.94-2.06 2.06-.94-2.06-.94L8.5 2.5l-.94 2.06-2.06.94zm10 10l.94 2.06.94-2.06 2.06-.94-2.06-.94-.94-2.06-.94 2.06-2.06.94z\"/><path d=\"M17.41 7.96l-1.37-1.37c-.4-.4-.92-.59-1.43-.59-.52 0-1.04.2-1.43.59L10.3 9.45l-7.72 7.72c-.78.78-.78 2.05 0 2.83L4 21.41c.39.39.9.59 1.41.59.51 0 1.02-.2 1.41-.59l7.78-7.78 2.81-2.81c.8-.78.8-2.07 0-2.86zM5.41 20L4 18.59l7.72-7.72 1.47 1.35L5.41 20z\"/>\n",
              "  </svg>\n",
              "      </button>\n",
              "      \n",
              "  <style>\n",
              "    .colab-df-container {\n",
              "      display:flex;\n",
              "      flex-wrap:wrap;\n",
              "      gap: 12px;\n",
              "    }\n",
              "\n",
              "    .colab-df-convert {\n",
              "      background-color: #E8F0FE;\n",
              "      border: none;\n",
              "      border-radius: 50%;\n",
              "      cursor: pointer;\n",
              "      display: none;\n",
              "      fill: #1967D2;\n",
              "      height: 32px;\n",
              "      padding: 0 0 0 0;\n",
              "      width: 32px;\n",
              "    }\n",
              "\n",
              "    .colab-df-convert:hover {\n",
              "      background-color: #E2EBFA;\n",
              "      box-shadow: 0px 1px 2px rgba(60, 64, 67, 0.3), 0px 1px 3px 1px rgba(60, 64, 67, 0.15);\n",
              "      fill: #174EA6;\n",
              "    }\n",
              "\n",
              "    [theme=dark] .colab-df-convert {\n",
              "      background-color: #3B4455;\n",
              "      fill: #D2E3FC;\n",
              "    }\n",
              "\n",
              "    [theme=dark] .colab-df-convert:hover {\n",
              "      background-color: #434B5C;\n",
              "      box-shadow: 0px 1px 3px 1px rgba(0, 0, 0, 0.15);\n",
              "      filter: drop-shadow(0px 1px 2px rgba(0, 0, 0, 0.3));\n",
              "      fill: #FFFFFF;\n",
              "    }\n",
              "  </style>\n",
              "\n",
              "      <script>\n",
              "        const buttonEl =\n",
              "          document.querySelector('#df-63ef0411-4ba7-4f70-94a0-1a70a16f6b86 button.colab-df-convert');\n",
              "        buttonEl.style.display =\n",
              "          google.colab.kernel.accessAllowed ? 'block' : 'none';\n",
              "\n",
              "        async function convertToInteractive(key) {\n",
              "          const element = document.querySelector('#df-63ef0411-4ba7-4f70-94a0-1a70a16f6b86');\n",
              "          const dataTable =\n",
              "            await google.colab.kernel.invokeFunction('convertToInteractive',\n",
              "                                                     [key], {});\n",
              "          if (!dataTable) return;\n",
              "\n",
              "          const docLinkHtml = 'Like what you see? Visit the ' +\n",
              "            '<a target=\"_blank\" href=https://colab.research.google.com/notebooks/data_table.ipynb>data table notebook</a>'\n",
              "            + ' to learn more about interactive tables.';\n",
              "          element.innerHTML = '';\n",
              "          dataTable['output_type'] = 'display_data';\n",
              "          await google.colab.output.renderOutput(dataTable, element);\n",
              "          const docLink = document.createElement('div');\n",
              "          docLink.innerHTML = docLinkHtml;\n",
              "          element.appendChild(docLink);\n",
              "        }\n",
              "      </script>\n",
              "    </div>\n",
              "  </div>\n",
              "  "
            ]
          },
          "metadata": {},
          "execution_count": 90
        }
      ]
    },
    {
      "cell_type": "code",
      "source": [
        "model.predict(test)\n"
      ],
      "metadata": {
        "colab": {
          "base_uri": "https://localhost:8080/"
        },
        "id": "kwC2TG4sjRvH",
        "outputId": "6b2b0c8f-bf42-40da-96de-ea57ab1bc7bd"
      },
      "execution_count": null,
      "outputs": [
        {
          "output_type": "stream",
          "name": "stdout",
          "text": [
            "1/1 [==============================] - 0s 53ms/step\n"
          ]
        },
        {
          "output_type": "execute_result",
          "data": {
            "text/plain": [
              "array([[1.]], dtype=float32)"
            ]
          },
          "metadata": {},
          "execution_count": 91
        }
      ]
    }
  ]
}